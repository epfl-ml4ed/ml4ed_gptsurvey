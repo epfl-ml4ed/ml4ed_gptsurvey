{
 "cells": [
  {
   "cell_type": "markdown",
   "metadata": {},
   "source": [
    "# Parsing\n",
    "Parse json files to dataframe"
   ]
  },
  {
   "cell_type": "code",
   "execution_count": null,
   "metadata": {},
   "outputs": [],
   "source": [
    "import zipfile\n",
    "import pandas as pd\n",
    "import json\n",
    "\n",
    "df_list = []\n",
    "with zipfile.ZipFile(\"gptsurvey_results.zip\", \"r\") as zip_ref:\n",
    "    for file in zip_ref.namelist():\n",
    "        with zip_ref.open(file) as json_file:\n",
    "            data = json.load(json_file)\n",
    "            row = {}\n",
    "            row[\"CourseID\"] = data[\"CourseID\"]\n",
    "            row[\"task_name\"] = data[\"task_name\"]\n",
    "            row[\"SciperID\"] = data[\"SciperID\"]\n",
    "            for key in data[\"results\"]:\n",
    "                row[key] = str(data[\"results\"][key])\n",
    "            df = pd.DataFrame(row, index=[0])\n",
    "            df_list.append(df)\n",
    "df = pd.concat(df_list)\n",
    "# Remove dummy scipers\n",
    "df = df[~df[\"SciperID\"].str.contains(\"00000\")]\n",
    "df = df.reset_index(drop=True)\n",
    "# Hash scipers\n",
    "df[\"SciperID\"] = df[\"SciperID\"].apply(lambda x: str(hash(x)))\n",
    "df"
   ]
  },
  {
   "cell_type": "markdown",
   "metadata": {},
   "source": [
    "# Duplicate results\n",
    "Survey taken twice for same sciper"
   ]
  },
  {
   "cell_type": "code",
   "execution_count": null,
   "metadata": {},
   "outputs": [],
   "source": [
    "df[df[\"SciperID\"].duplicated(keep=False)]"
   ]
  },
  {
   "cell_type": "markdown",
   "metadata": {},
   "source": [
    "# Save to csv"
   ]
  },
  {
   "cell_type": "code",
   "execution_count": null,
   "metadata": {},
   "outputs": [],
   "source": [
    "df.to_csv(\"gptsurvey_results.csv\", index=False)"
   ]
  }
 ],
 "metadata": {
  "kernelspec": {
   "display_name": "Python 3",
   "language": "python",
   "name": "python3"
  },
  "language_info": {
   "codemirror_mode": {
    "name": "ipython",
    "version": 3
   },
   "file_extension": ".py",
   "mimetype": "text/x-python",
   "name": "python",
   "nbconvert_exporter": "python",
   "pygments_lexer": "ipython3",
   "version": "3.8.10"
  }
 },
 "nbformat": 4,
 "nbformat_minor": 2
}
