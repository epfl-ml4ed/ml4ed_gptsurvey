{
 "cells": [
  {
   "cell_type": "markdown",
   "metadata": {},
   "source": [
    "# Parsing\n",
    "Parse json files to dataframe"
   ]
  },
  {
   "cell_type": "code",
   "execution_count": null,
   "metadata": {},
   "outputs": [],
   "source": [
    "import zipfile\n",
    "import pandas as pd\n",
    "import json\n",
    "\n",
    "pd.options.display.max_columns = None\n",
    "\n",
    "df_list = []\n",
    "with zipfile.ZipFile(\"gptsurvey_results.zip\", \"r\") as zip_ref:\n",
    "    for file in zip_ref.namelist():\n",
    "        with zip_ref.open(file) as json_file:\n",
    "            data = json.load(json_file)\n",
    "            row = {}\n",
    "            row[\"CourseID\"] = data[\"CourseID\"]\n",
    "            row[\"task_name\"] = data[\"task_name\"]\n",
    "            row[\"SciperID\"] = data[\"SciperID\"]\n",
    "            for key in data[\"results\"]:\n",
    "                row[key] = str(data[\"results\"][key])\n",
    "            row[\"server_timestamp\"] = data[\"server_timestamp\"]\n",
    "            df = pd.DataFrame(row, index=[0])\n",
    "            df_list.append(df)\n",
    "df = pd.concat(df_list)\n",
    "\n",
    "# Remove dummy scipers\n",
    "df = df[~df[\"SciperID\"].str.contains(\"00000\")]\n",
    "df = df.reset_index(drop=True)\n",
    "\n",
    "# Hash scipers\n",
    "df[\"SciperID\"] = df[\"SciperID\"].apply(lambda x: str(hash(x)))\n",
    "\n",
    "# Convert date \n",
    "df[\"human_timestamp\"] = pd.to_datetime(df[\"server_timestamp\"], unit=\"ms\")\n",
    "\n",
    "df"
   ]
  },
  {
   "cell_type": "markdown",
   "metadata": {},
   "source": [
    "Parse Likerts"
   ]
  },
  {
   "cell_type": "code",
   "execution_count": null,
   "metadata": {},
   "outputs": [],
   "source": [
    "# Convert likert of [[true, false, etc.], [true, false, etc.], etc.] to separate columns of [true, false, etc.]\n",
    "likert_cols = [\"Q1_likert_AI\",\"Q1_likert_human\",\"Q3_likert_AI\",\"Q3_likert_human\",\"Q3_extra_likert_human\",\"Q3_extra_likert_AI\"]\n",
    "def parse_likert(row, likert_cols = likert_cols):\n",
    "    # For each likert\n",
    "    for likert in likert_cols:\n",
    "        # Parse likert array\n",
    "        likert_array = eval(row[likert])\n",
    "        # For each row in this likert\n",
    "        for i in range(len(likert_array)):\n",
    "            # Get true idx\n",
    "            for k in range(len(likert_array[i])):\n",
    "                if likert_array[i][k] == True:\n",
    "                    row[f\"{likert}_ans{i}\"] = k\n",
    "    return row\n",
    "\n",
    "# Parse likert into separate cols\n",
    "df = df.apply(parse_likert, axis=1)\n",
    "\n",
    "# Drop original raw likerts cols\n",
    "df = df.drop(columns=likert_cols)\n",
    "\n",
    "# Order some cols alphabetically\n",
    "df = df.reindex(sorted(df.columns), axis=1)\n",
    "df = df[[\"CourseID\",\"task_name\",\"SciperID\"] + [c for c in df if c not in [\"CourseID\",\"task_name\",\"SciperID\"]]]\n",
    "df"
   ]
  },
  {
   "cell_type": "markdown",
   "metadata": {},
   "source": [
    "# Stats"
   ]
  },
  {
   "cell_type": "code",
   "execution_count": null,
   "metadata": {},
   "outputs": [],
   "source": [
    "stats = df.drop(columns=\"server_timestamp\").describe()\n",
    "stats"
   ]
  },
  {
   "cell_type": "markdown",
   "metadata": {},
   "source": [
    "Plot"
   ]
  },
  {
   "cell_type": "code",
   "execution_count": null,
   "metadata": {},
   "outputs": [],
   "source": [
    "stats.loc[\"mean\"].plot.bar(yerr=stats.loc['std'])"
   ]
  },
  {
   "cell_type": "markdown",
   "metadata": {},
   "source": [
    "# Duplicate results\n",
    "Survey taken twice for same sciper"
   ]
  },
  {
   "cell_type": "code",
   "execution_count": null,
   "metadata": {},
   "outputs": [],
   "source": [
    "df[df[\"SciperID\"].duplicated(keep=False)]"
   ]
  },
  {
   "cell_type": "markdown",
   "metadata": {},
   "source": [
    "# Save to csv"
   ]
  },
  {
   "cell_type": "code",
   "execution_count": null,
   "metadata": {},
   "outputs": [],
   "source": [
    "df.to_csv(\"gptsurvey_results.csv\", index=False)"
   ]
  }
 ],
 "metadata": {
  "kernelspec": {
   "display_name": "Python 3",
   "language": "python",
   "name": "python3"
  },
  "language_info": {
   "codemirror_mode": {
    "name": "ipython",
    "version": 3
   },
   "file_extension": ".py",
   "mimetype": "text/x-python",
   "name": "python",
   "nbconvert_exporter": "python",
   "pygments_lexer": "ipython3",
   "version": "3.8.10"
  }
 },
 "nbformat": 4,
 "nbformat_minor": 2
}
